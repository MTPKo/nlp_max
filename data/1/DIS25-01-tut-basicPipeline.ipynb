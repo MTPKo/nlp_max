{
 "cells": [
  {
   "cell_type": "markdown",
   "id": "1e448fa4-e2ae-4799-8fb1-ab50df7c4327",
   "metadata": {},
   "source": [
    "# 1.2 Import of \"Quality-of-Life Modules\""
   ]
  },
  {
   "cell_type": "code",
   "execution_count": 1,
   "id": "09d12815-2412-4348-b5ea-b07fcd8ab404",
   "metadata": {},
   "outputs": [],
   "source": [
    "import json\n",
    "import numpy as np\n",
    "import pandas as pd\n",
    "from pandarallel import pandarallel\n",
    "import glob, json\n",
    "import re"
   ]
  },
  {
   "cell_type": "code",
   "execution_count": 2,
   "id": "9b0fc89a-a576-4206-a449-565878500bc8",
   "metadata": {},
   "outputs": [
    {
     "name": "stdout",
     "output_type": "stream",
     "text": [
      "INFO: Pandarallel will run on 6 workers.\n",
      "INFO: Pandarallel will use Memory file system to transfer data between the main process and workers.\n"
     ]
    }
   ],
   "source": [
    "pandarallel.initialize()"
   ]
  },
  {
   "cell_type": "markdown",
   "id": "8c7287eb-264a-4428-8649-3dead48f22e1",
   "metadata": {},
   "source": [
    "# 2: Import Data"
   ]
  },
  {
   "cell_type": "code",
   "execution_count": 3,
   "id": "1208d251-f231-4eac-bdbc-095a990f41ea",
   "metadata": {},
   "outputs": [
    {
     "name": "stdout",
     "output_type": "stream",
     "text": [
      "['reddit.json', 'wocka.json', 'stupidstuff.json']\n"
     ]
    }
   ],
   "source": [
    "files = \"/home/documents/NLP/nlp_max/data/1\"\n",
    "files = glob.glob('*.json')\n",
    "print(files)"
   ]
  },
  {
   "cell_type": "code",
   "execution_count": 4,
   "id": "0d549d67-25f1-44b3-bea1-2e8001b8d1be",
   "metadata": {},
   "outputs": [],
   "source": [
    "file = files[0]\n",
    "file1 = files[1]\n",
    "file2 = files[2]"
   ]
  },
  {
   "cell_type": "code",
   "execution_count": 5,
   "id": "291641fd-bb82-4099-a904-36410455c5b9",
   "metadata": {},
   "outputs": [
    {
     "name": "stdout",
     "output_type": "stream",
     "text": [
      "wocka length:  10019  | stupidstuff: length  3773  | reddit length:  40809\n"
     ]
    }
   ],
   "source": [
    "df_reddit = pd.read_json(file)\n",
    "df_wocka = pd.read_json(file1)\n",
    "df_stuff = pd.read_json(file2)\n",
    "print('wocka length: ', len(df_wocka.index),' | stupidstuff: length ', len(df_stuff.index),' | reddit length: ', len(df_reddit.index))\n"
   ]
  },
  {
   "cell_type": "code",
   "execution_count": 6,
   "id": "f8d31559-eef4-4a8e-9299-76ed67bf965c",
   "metadata": {},
   "outputs": [],
   "source": [
    "df_merge = pd.concat([df_reddit, df_wocka, df_stuff],keys=['reddit','wocka','stuff'],axis=0)"
   ]
  },
  {
   "cell_type": "code",
   "execution_count": 7,
   "id": "6d9799bb-0d4a-4eb4-8f0b-6f0c5bedad56",
   "metadata": {},
   "outputs": [
    {
     "data": {
      "text/html": [
       "<div>\n",
       "<style scoped>\n",
       "    .dataframe tbody tr th:only-of-type {\n",
       "        vertical-align: middle;\n",
       "    }\n",
       "\n",
       "    .dataframe tbody tr th {\n",
       "        vertical-align: top;\n",
       "    }\n",
       "\n",
       "    .dataframe thead th {\n",
       "        text-align: right;\n",
       "    }\n",
       "</style>\n",
       "<table border=\"1\" class=\"dataframe\">\n",
       "  <thead>\n",
       "    <tr style=\"text-align: right;\">\n",
       "      <th></th>\n",
       "      <th></th>\n",
       "      <th>body</th>\n",
       "      <th>id</th>\n",
       "      <th>score</th>\n",
       "      <th>title</th>\n",
       "      <th>category</th>\n",
       "      <th>rating</th>\n",
       "    </tr>\n",
       "  </thead>\n",
       "  <tbody>\n",
       "    <tr>\n",
       "      <th rowspan=\"5\" valign=\"top\">reddit</th>\n",
       "      <th>0</th>\n",
       "      <td>Now I have to say \"Leroy can you please paint ...</td>\n",
       "      <td>5tz52q</td>\n",
       "      <td>1.0</td>\n",
       "      <td>I hate how you cant even say black paint anymore</td>\n",
       "      <td>NaN</td>\n",
       "      <td>NaN</td>\n",
       "    </tr>\n",
       "    <tr>\n",
       "      <th>1</th>\n",
       "      <td>Pizza doesn't scream when you put it in the ov...</td>\n",
       "      <td>5tz4dd</td>\n",
       "      <td>0.0</td>\n",
       "      <td>What's the difference between a Jew in Nazi Ge...</td>\n",
       "      <td>NaN</td>\n",
       "      <td>NaN</td>\n",
       "    </tr>\n",
       "    <tr>\n",
       "      <th>2</th>\n",
       "      <td>...and being there really helped me learn abou...</td>\n",
       "      <td>5tz319</td>\n",
       "      <td>0.0</td>\n",
       "      <td>I recently went to America....</td>\n",
       "      <td>NaN</td>\n",
       "      <td>NaN</td>\n",
       "    </tr>\n",
       "    <tr>\n",
       "      <th>3</th>\n",
       "      <td>A Sunday school teacher is concerned that his ...</td>\n",
       "      <td>5tz2wj</td>\n",
       "      <td>1.0</td>\n",
       "      <td>Brian raises his hand and says, “He’s in Heaven.”</td>\n",
       "      <td>NaN</td>\n",
       "      <td>NaN</td>\n",
       "    </tr>\n",
       "    <tr>\n",
       "      <th>4</th>\n",
       "      <td>He got caught trying to sell the two books to ...</td>\n",
       "      <td>5tz1pc</td>\n",
       "      <td>0.0</td>\n",
       "      <td>You hear about the University book store worke...</td>\n",
       "      <td>NaN</td>\n",
       "      <td>NaN</td>\n",
       "    </tr>\n",
       "    <tr>\n",
       "      <th>...</th>\n",
       "      <th>...</th>\n",
       "      <td>...</td>\n",
       "      <td>...</td>\n",
       "      <td>...</td>\n",
       "      <td>...</td>\n",
       "      <td>...</td>\n",
       "      <td>...</td>\n",
       "    </tr>\n",
       "    <tr>\n",
       "      <th rowspan=\"5\" valign=\"top\">stuff</th>\n",
       "      <th>3768</th>\n",
       "      <td></td>\n",
       "      <td>3769</td>\n",
       "      <td>NaN</td>\n",
       "      <td>NaN</td>\n",
       "      <td>Miscellaneous</td>\n",
       "      <td>5.0</td>\n",
       "    </tr>\n",
       "    <tr>\n",
       "      <th>3769</th>\n",
       "      <td>The Pope and the Queen of England are on the s...</td>\n",
       "      <td>3770</td>\n",
       "      <td>NaN</td>\n",
       "      <td>NaN</td>\n",
       "      <td>Miscellaneous</td>\n",
       "      <td>4.0</td>\n",
       "    </tr>\n",
       "    <tr>\n",
       "      <th>3770</th>\n",
       "      <td></td>\n",
       "      <td>3771</td>\n",
       "      <td>NaN</td>\n",
       "      <td>NaN</td>\n",
       "      <td>Miscellaneous</td>\n",
       "      <td>1.0</td>\n",
       "    </tr>\n",
       "    <tr>\n",
       "      <th>3771</th>\n",
       "      <td>Letter to Xerox and the Reply\\n\\nDear Kings of...</td>\n",
       "      <td>3772</td>\n",
       "      <td>NaN</td>\n",
       "      <td>NaN</td>\n",
       "      <td>Miscellaneous</td>\n",
       "      <td>4.0</td>\n",
       "    </tr>\n",
       "    <tr>\n",
       "      <th>3772</th>\n",
       "      <td>Note: Tradewars is on online role-playing game...</td>\n",
       "      <td>3773</td>\n",
       "      <td>NaN</td>\n",
       "      <td>NaN</td>\n",
       "      <td>Miscellaneous</td>\n",
       "      <td>3.0</td>\n",
       "    </tr>\n",
       "  </tbody>\n",
       "</table>\n",
       "<p>54601 rows × 6 columns</p>\n",
       "</div>"
      ],
      "text/plain": [
       "                                                          body      id  score  \\\n",
       "reddit 0     Now I have to say \"Leroy can you please paint ...  5tz52q    1.0   \n",
       "       1     Pizza doesn't scream when you put it in the ov...  5tz4dd    0.0   \n",
       "       2     ...and being there really helped me learn abou...  5tz319    0.0   \n",
       "       3     A Sunday school teacher is concerned that his ...  5tz2wj    1.0   \n",
       "       4     He got caught trying to sell the two books to ...  5tz1pc    0.0   \n",
       "...                                                        ...     ...    ...   \n",
       "stuff  3768                                                       3769    NaN   \n",
       "       3769  The Pope and the Queen of England are on the s...    3770    NaN   \n",
       "       3770                                                       3771    NaN   \n",
       "       3771  Letter to Xerox and the Reply\\n\\nDear Kings of...    3772    NaN   \n",
       "       3772  Note: Tradewars is on online role-playing game...    3773    NaN   \n",
       "\n",
       "                                                         title       category  \\\n",
       "reddit 0      I hate how you cant even say black paint anymore            NaN   \n",
       "       1     What's the difference between a Jew in Nazi Ge...            NaN   \n",
       "       2                        I recently went to America....            NaN   \n",
       "       3     Brian raises his hand and says, “He’s in Heaven.”            NaN   \n",
       "       4     You hear about the University book store worke...            NaN   \n",
       "...                                                        ...            ...   \n",
       "stuff  3768                                                NaN  Miscellaneous   \n",
       "       3769                                                NaN  Miscellaneous   \n",
       "       3770                                                NaN  Miscellaneous   \n",
       "       3771                                                NaN  Miscellaneous   \n",
       "       3772                                                NaN  Miscellaneous   \n",
       "\n",
       "             rating  \n",
       "reddit 0        NaN  \n",
       "       1        NaN  \n",
       "       2        NaN  \n",
       "       3        NaN  \n",
       "       4        NaN  \n",
       "...             ...  \n",
       "stuff  3768     5.0  \n",
       "       3769     4.0  \n",
       "       3770     1.0  \n",
       "       3771     4.0  \n",
       "       3772     3.0  \n",
       "\n",
       "[54601 rows x 6 columns]"
      ]
     },
     "execution_count": 7,
     "metadata": {},
     "output_type": "execute_result"
    }
   ],
   "source": [
    "df_merge"
   ]
  },
  {
   "cell_type": "markdown",
   "id": "f895ddc1-9425-4a3e-b2e9-1f177fc8bed9",
   "metadata": {},
   "source": [
    "# 3: Data Preprocessing"
   ]
  },
  {
   "cell_type": "markdown",
   "id": "ebebcad3-7963-4c27-a936-d079f5de0a79",
   "metadata": {},
   "source": [
    "regex pattern and substition for format tokens"
   ]
  },
  {
   "cell_type": "code",
   "execution_count": 8,
   "id": "6cf7b720-d0fb-4f61-8054-1d1302968551",
   "metadata": {},
   "outputs": [],
   "source": [
    "f_tokens = r\"\\t|\\n|\\0|\\r|(\\\\n)|(\\\\t)|(\\\\w)|(\\\\r)\"\n",
    "subst = \" \""
   ]
  },
  {
   "cell_type": "code",
   "execution_count": 13,
   "id": "b3240d8c-ee01-453b-9ce6-0ef63efda343",
   "metadata": {},
   "outputs": [],
   "source": [
    "df_merge['body'].replace(f_tokens,subst,regex=True,inplace=True)"
   ]
  },
  {
   "cell_type": "markdown",
   "id": "f438ea7e-e80f-4eb9-8440-d5ab5253aa43",
   "metadata": {},
   "source": [
    "Replace Nan values for boolean filter with \"\""
   ]
  },
  {
   "cell_type": "code",
   "execution_count": 26,
   "id": "437b8a48-ed79-417e-82f1-1671f880b754",
   "metadata": {},
   "outputs": [],
   "source": [
    "df_merge.fillna(\"\",inplace=True)"
   ]
  },
  {
   "cell_type": "markdown",
   "id": "256eae19-a103-4aa9-b2cf-32ab5c5010eb",
   "metadata": {},
   "source": [
    "If Body or Title is __not__ empty, give True Value"
   ]
  },
  {
   "cell_type": "code",
   "execution_count": 27,
   "id": "dd801c06-e33b-46be-921e-7142fde16e8b",
   "metadata": {},
   "outputs": [],
   "source": [
    "a =df_merge['body'] !=\"\"\n",
    "b =df_merge['title'] !=\"\"\n",
    "c=a+b "
   ]
  },
  {
   "cell_type": "markdown",
   "id": "2380e520-fd84-4c54-8721-b5dc1b37b277",
   "metadata": {},
   "source": [
    "only copy rows with valuable data to new DF, drop every row with empty body or Title"
   ]
  },
  {
   "cell_type": "code",
   "execution_count": 28,
   "id": "86df1605-1ad5-45a6-ba20-3c9e94b97e9a",
   "metadata": {},
   "outputs": [
    {
     "data": {
      "text/html": [
       "<div>\n",
       "<style scoped>\n",
       "    .dataframe tbody tr th:only-of-type {\n",
       "        vertical-align: middle;\n",
       "    }\n",
       "\n",
       "    .dataframe tbody tr th {\n",
       "        vertical-align: top;\n",
       "    }\n",
       "\n",
       "    .dataframe thead th {\n",
       "        text-align: right;\n",
       "    }\n",
       "</style>\n",
       "<table border=\"1\" class=\"dataframe\">\n",
       "  <thead>\n",
       "    <tr style=\"text-align: right;\">\n",
       "      <th></th>\n",
       "      <th></th>\n",
       "      <th>body</th>\n",
       "      <th>id</th>\n",
       "      <th>score</th>\n",
       "      <th>title</th>\n",
       "      <th>category</th>\n",
       "      <th>rating</th>\n",
       "    </tr>\n",
       "  </thead>\n",
       "  <tbody>\n",
       "    <tr>\n",
       "      <th rowspan=\"5\" valign=\"top\">reddit</th>\n",
       "      <th>0</th>\n",
       "      <td>Now I have to say \"Leroy can you please paint ...</td>\n",
       "      <td>5tz52q</td>\n",
       "      <td>1.0</td>\n",
       "      <td>I hate how you cant even say black paint anymore</td>\n",
       "      <td></td>\n",
       "      <td></td>\n",
       "    </tr>\n",
       "    <tr>\n",
       "      <th>1</th>\n",
       "      <td>Pizza doesn't scream when you put it in the ov...</td>\n",
       "      <td>5tz4dd</td>\n",
       "      <td>0.0</td>\n",
       "      <td>What's the difference between a Jew in Nazi Ge...</td>\n",
       "      <td></td>\n",
       "      <td></td>\n",
       "    </tr>\n",
       "    <tr>\n",
       "      <th>2</th>\n",
       "      <td>...and being there really helped me learn abou...</td>\n",
       "      <td>5tz319</td>\n",
       "      <td>0.0</td>\n",
       "      <td>I recently went to America....</td>\n",
       "      <td></td>\n",
       "      <td></td>\n",
       "    </tr>\n",
       "    <tr>\n",
       "      <th>3</th>\n",
       "      <td>A Sunday school teacher is concerned that his ...</td>\n",
       "      <td>5tz2wj</td>\n",
       "      <td>1.0</td>\n",
       "      <td>Brian raises his hand and says, “He’s in Heaven.”</td>\n",
       "      <td></td>\n",
       "      <td></td>\n",
       "    </tr>\n",
       "    <tr>\n",
       "      <th>4</th>\n",
       "      <td>He got caught trying to sell the two books to ...</td>\n",
       "      <td>5tz1pc</td>\n",
       "      <td>0.0</td>\n",
       "      <td>You hear about the University book store worke...</td>\n",
       "      <td></td>\n",
       "      <td></td>\n",
       "    </tr>\n",
       "    <tr>\n",
       "      <th>...</th>\n",
       "      <th>...</th>\n",
       "      <td>...</td>\n",
       "      <td>...</td>\n",
       "      <td>...</td>\n",
       "      <td>...</td>\n",
       "      <td>...</td>\n",
       "      <td>...</td>\n",
       "    </tr>\n",
       "    <tr>\n",
       "      <th rowspan=\"5\" valign=\"top\">stuff</th>\n",
       "      <th>3764</th>\n",
       "      <td>Britain decided it was time to switch left lan...</td>\n",
       "      <td>3765</td>\n",
       "      <td></td>\n",
       "      <td></td>\n",
       "      <td>Miscellaneous</td>\n",
       "      <td>4.0</td>\n",
       "    </tr>\n",
       "    <tr>\n",
       "      <th>3765</th>\n",
       "      <td>Examples of unclear writing (Sentences taken f...</td>\n",
       "      <td>3766</td>\n",
       "      <td></td>\n",
       "      <td></td>\n",
       "      <td>Miscellaneous</td>\n",
       "      <td>3.0</td>\n",
       "    </tr>\n",
       "    <tr>\n",
       "      <th>3769</th>\n",
       "      <td>The Pope and the Queen of England are on the s...</td>\n",
       "      <td>3770</td>\n",
       "      <td></td>\n",
       "      <td></td>\n",
       "      <td>Miscellaneous</td>\n",
       "      <td>4.0</td>\n",
       "    </tr>\n",
       "    <tr>\n",
       "      <th>3771</th>\n",
       "      <td>Letter to Xerox and the Reply  Dear Kings of K...</td>\n",
       "      <td>3772</td>\n",
       "      <td></td>\n",
       "      <td></td>\n",
       "      <td>Miscellaneous</td>\n",
       "      <td>4.0</td>\n",
       "    </tr>\n",
       "    <tr>\n",
       "      <th>3772</th>\n",
       "      <td>Note: Tradewars is on online role-playing game...</td>\n",
       "      <td>3773</td>\n",
       "      <td></td>\n",
       "      <td></td>\n",
       "      <td>Miscellaneous</td>\n",
       "      <td>3.0</td>\n",
       "    </tr>\n",
       "  </tbody>\n",
       "</table>\n",
       "<p>54028 rows × 6 columns</p>\n",
       "</div>"
      ],
      "text/plain": [
       "                                                          body      id score  \\\n",
       "reddit 0     Now I have to say \"Leroy can you please paint ...  5tz52q   1.0   \n",
       "       1     Pizza doesn't scream when you put it in the ov...  5tz4dd   0.0   \n",
       "       2     ...and being there really helped me learn abou...  5tz319   0.0   \n",
       "       3     A Sunday school teacher is concerned that his ...  5tz2wj   1.0   \n",
       "       4     He got caught trying to sell the two books to ...  5tz1pc   0.0   \n",
       "...                                                        ...     ...   ...   \n",
       "stuff  3764  Britain decided it was time to switch left lan...    3765         \n",
       "       3765  Examples of unclear writing (Sentences taken f...    3766         \n",
       "       3769  The Pope and the Queen of England are on the s...    3770         \n",
       "       3771  Letter to Xerox and the Reply  Dear Kings of K...    3772         \n",
       "       3772  Note: Tradewars is on online role-playing game...    3773         \n",
       "\n",
       "                                                         title       category  \\\n",
       "reddit 0      I hate how you cant even say black paint anymore                  \n",
       "       1     What's the difference between a Jew in Nazi Ge...                  \n",
       "       2                        I recently went to America....                  \n",
       "       3     Brian raises his hand and says, “He’s in Heaven.”                  \n",
       "       4     You hear about the University book store worke...                  \n",
       "...                                                        ...            ...   \n",
       "stuff  3764                                                     Miscellaneous   \n",
       "       3765                                                     Miscellaneous   \n",
       "       3769                                                     Miscellaneous   \n",
       "       3771                                                     Miscellaneous   \n",
       "       3772                                                     Miscellaneous   \n",
       "\n",
       "            rating  \n",
       "reddit 0            \n",
       "       1            \n",
       "       2            \n",
       "       3            \n",
       "       4            \n",
       "...            ...  \n",
       "stuff  3764    4.0  \n",
       "       3765    3.0  \n",
       "       3769    4.0  \n",
       "       3771    4.0  \n",
       "       3772    3.0  \n",
       "\n",
       "[54028 rows x 6 columns]"
      ]
     },
     "execution_count": 28,
     "metadata": {},
     "output_type": "execute_result"
    }
   ],
   "source": [
    "df_test = df_merge[c]\n",
    "df_test"
   ]
  },
  {
   "cell_type": "code",
   "execution_count": null,
   "id": "b115d58d-0ada-4558-89de-73785ba054a4",
   "metadata": {},
   "outputs": [],
   "source": []
  }
 ],
 "metadata": {
  "kernelspec": {
   "display_name": "Python 3 (ipykernel)",
   "language": "python",
   "name": "python3"
  },
  "language_info": {
   "codemirror_mode": {
    "name": "ipython",
    "version": 3
   },
   "file_extension": ".py",
   "mimetype": "text/x-python",
   "name": "python",
   "nbconvert_exporter": "python",
   "pygments_lexer": "ipython3",
   "version": "3.8.10"
  }
 },
 "nbformat": 4,
 "nbformat_minor": 5
}
